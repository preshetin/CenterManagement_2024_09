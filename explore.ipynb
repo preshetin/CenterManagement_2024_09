{
  "cells": [
    {
      "cell_type": "markdown",
      "metadata": {
        "id": "TdulRNsks_oA"
      },
      "source": [
        "This notebook explores, transforms, and visualizes data from the classic novel PRIDE AND PREJUDICE by Jane Austen.\n",
        "\n",
        "Table of Contents:\n",
        "1. Load Novel\n",
        "2. Clean Dataset\n",
        "3. Perform Sentiment Analysis\n",
        "4. Visualize Character-Adjacent Words\n",
        "5. Plot Metrics Across Chapters"
      ]
    },
    {
      "cell_type": "markdown",
      "metadata": {
        "id": "8m6ydqgOs_oD"
      },
      "source": [
        "1. Load Novel"
      ]
    },
    {
      "cell_type": "code",
      "execution_count": 20,
      "metadata": {
        "id": "00xaQgpUs_oD",
        "outputId": "5bf0e186-32c5-4598-8371-cf1470f8d2a8",
        "colab": {
          "base_uri": "https://localhost:8080/"
        }
      },
      "outputs": [
        {
          "output_type": "stream",
          "name": "stdout",
          "text": [
            "Requirement already satisfied: PyPDF2 in /usr/local/lib/python3.11/dist-packages (3.0.1)\n",
            "Requirement already satisfied: textstat in /usr/local/lib/python3.11/dist-packages (0.7.5)\n",
            "Requirement already satisfied: pyphen in /usr/local/lib/python3.11/dist-packages (from textstat) (0.17.2)\n",
            "Requirement already satisfied: cmudict in /usr/local/lib/python3.11/dist-packages (from textstat) (1.0.32)\n",
            "Requirement already satisfied: setuptools in /usr/local/lib/python3.11/dist-packages (from textstat) (75.1.0)\n",
            "Requirement already satisfied: importlib-metadata>=5 in /usr/local/lib/python3.11/dist-packages (from cmudict->textstat) (8.6.1)\n",
            "Requirement already satisfied: importlib-resources>=5 in /usr/local/lib/python3.11/dist-packages (from cmudict->textstat) (6.5.2)\n",
            "Requirement already satisfied: zipp>=3.20 in /usr/local/lib/python3.11/dist-packages (from importlib-metadata>=5->cmudict->textstat) (3.21.0)\n",
            "Requirement already satisfied: nltk in /usr/local/lib/python3.11/dist-packages (3.9.1)\n",
            "Requirement already satisfied: click in /usr/local/lib/python3.11/dist-packages (from nltk) (8.1.8)\n",
            "Requirement already satisfied: joblib in /usr/local/lib/python3.11/dist-packages (from nltk) (1.4.2)\n",
            "Requirement already satisfied: regex>=2021.8.3 in /usr/local/lib/python3.11/dist-packages (from nltk) (2024.11.6)\n",
            "Requirement already satisfied: tqdm in /usr/local/lib/python3.11/dist-packages (from nltk) (4.67.1)\n"
          ]
        },
        {
          "output_type": "stream",
          "name": "stderr",
          "text": [
            "[nltk_data] Downloading package punkt_tab to /root/nltk_data...\n",
            "[nltk_data]   Package punkt_tab is already up-to-date!\n"
          ]
        },
        {
          "output_type": "execute_result",
          "data": {
            "text/plain": [
              "True"
            ]
          },
          "metadata": {},
          "execution_count": 20
        }
      ],
      "source": [
        "!pip install PyPDF2\n",
        "!pip install textstat\n",
        "\n",
        "!pip install --user -U nltk\n",
        "# !pip install --user -U numpy\n",
        "\n",
        "# Import libraries\n",
        "from urllib.request import urlopen\n",
        "import requests\n",
        "from PyPDF2 import PdfReader\n",
        "from nltk import pos_tag\n",
        "from nltk.tokenize import word_tokenize\n",
        "from nltk.tokenize import sent_tokenize\n",
        "from nltk.stem import WordNetLemmatizer\n",
        "from wordcloud import WordCloud, STOPWORDS\n",
        "import re\n",
        "from nltk.sentiment.vader import SentimentIntensityAnalyzer as sia\n",
        "import pandas as pd\n",
        "import string\n",
        "import matplotlib.pyplot as plt\n",
        "import numpy as np\n",
        "import textstat as ts\n",
        "\n",
        "\n",
        "import nltk\n",
        "nltk.download('punkt_tab')"
      ]
    },
    {
      "cell_type": "code",
      "execution_count": 21,
      "metadata": {
        "id": "WpHKpkgfs_oE"
      },
      "outputs": [],
      "source": [
        "# Set URL of the plain-text version of the novel on Project Gutenberg\n",
        "url = 'https://www.gutenberg.org/files/1342/1342-0.txt'\n",
        "\n",
        "with urlopen(url) as response:\n",
        "     body = response.read()\n",
        "\n",
        "# Decode the text\n",
        "pandp_txt = body.decode('utf-8')\n",
        "\n",
        "# Replace escaped characters, tabs, and stylized punctuation marks\n",
        "repl = {'\\n':'','\\t':'','\\ufeff':'','\\r':' ','       ':' ','“':'\"','”':'\"','’':\"'\"}\n",
        "for c in repl:\n",
        "     pandp_txt = pandp_txt.replace(c, repl[c])"
      ]
    },
    {
      "cell_type": "code",
      "execution_count": 22,
      "metadata": {
        "id": "mko_cZGVs_oF"
      },
      "outputs": [],
      "source": [
        "# Tokenize pandp_txt into a list of words (wt_all) and sentences (st_all)\n",
        "wt_all = word_tokenize(pandp_txt)\n",
        "st_all = sent_tokenize(pandp_txt)"
      ]
    },
    {
      "cell_type": "code",
      "execution_count": 23,
      "metadata": {
        "id": "RPYPlhogs_oF",
        "outputId": "0dbff24d-6674-45a8-a20b-d522ccc7bbf7",
        "colab": {
          "base_uri": "https://localhost:8080/",
          "height": 35
        }
      },
      "outputs": [
        {
          "output_type": "execute_result",
          "data": {
            "text/plain": [
              "'*** START OF THE PROJECT GUTENBERG EBOOK 1342 ***     [Illustration:       GEORGE ALLEN        PUBLI'"
            ],
            "application/vnd.google.colaboratory.intrinsic+json": {
              "type": "string"
            }
          },
          "metadata": {},
          "execution_count": 23
        }
      ],
      "source": [
        "pandp_txt[:100]"
      ]
    },
    {
      "cell_type": "code",
      "execution_count": 24,
      "metadata": {
        "id": "pUhiYGHms_oG",
        "outputId": "354b0c41-be7d-4b8b-a19d-ac9adb5eddd1",
        "colab": {
          "base_uri": "https://localhost:8080/"
        }
      },
      "outputs": [
        {
          "output_type": "execute_result",
          "data": {
            "text/plain": [
              "[\"*** START OF THE PROJECT GUTENBERG EBOOK 1342 ***     [Illustration:       GEORGE ALLEN        PUBLISHER        156 CHARING CROSS ROAD         LONDON       RUSKIN HOUSE      ]      [Illustration:     _Reading Jane's Letters._      _Chap 34._      ]       PRIDE.\"]"
            ]
          },
          "metadata": {},
          "execution_count": 24
        }
      ],
      "source": [
        "st_all[:1]"
      ]
    },
    {
      "cell_type": "code",
      "execution_count": 25,
      "metadata": {
        "id": "s40tsH_4s_oH",
        "outputId": "58653e8b-7bdf-41eb-ecdd-8b5ce9696277",
        "colab": {
          "base_uri": "https://localhost:8080/"
        }
      },
      "outputs": [
        {
          "output_type": "execute_result",
          "data": {
            "text/plain": [
              "['*', '*', '*']"
            ]
          },
          "metadata": {},
          "execution_count": 25
        }
      ],
      "source": [
        "wt_all[:3]"
      ]
    },
    {
      "cell_type": "code",
      "execution_count": 26,
      "metadata": {
        "id": "jRpwBnlps_oH",
        "outputId": "ce2e5032-57d9-4fad-bc52-41615e413b25",
        "colab": {
          "base_uri": "https://localhost:8080/",
          "height": 285
        }
      },
      "outputs": [
        {
          "output_type": "display_data",
          "data": {
            "text/plain": [
              "<Figure size 640x480 with 1 Axes>"
            ],
            "image/png": "[encoded data removed]"
          },
          "metadata": {}
        }
      ],
      "source": [
        "# Create stopword list:\n",
        "stopwords = set(STOPWORDS)\n",
        "\n",
        "# Add more words to ignore\n",
        "stopwords.update([\"S\",\"re\", \"say\", \"said\", \"don't\", \"didn't\"])\n",
        "\n",
        "# Redo stop words. Limit number of words\n",
        "wordcloud = WordCloud(stopwords=stopwords, max_words=25, \\\n",
        "                      background_color=\"white\").generate(pandp_txt)\n",
        "\n",
        "# Display wordcloud\n",
        "plt.imshow(wordcloud)\n",
        "plt.axis(\"off\")\n",
        "plt.show()"
      ]
    },
    {
      "cell_type": "markdown",
      "metadata": {
        "id": "LSdR2EkKs_oH"
      },
      "source": [
        "2. Clean dataset"
      ]
    },
    {
      "cell_type": "code",
      "execution_count": 27,
      "metadata": {
        "id": "_cXruz9Ys_oI"
      },
      "outputs": [],
      "source": [
        "# Create table of contents\n",
        "toc_start = st_all[3].find('CONTENTS') + len ('CONTENTS    ')\n",
        "toc_end = st_all[3].find('It is a truth') - len('     Chapter 1  ')\n",
        "chap_title = st_all[3][toc_start:toc_end].split('    ')\n",
        "\n",
        "# Exclude Project Gutenberg intro content at beginning of document\n",
        "st0 = st_all[3].split('    ') + st_all[4:]\n",
        "\n",
        "# Find the beginning and end of the novels\n",
        "start = [st0.index(x) for x in st0 if 'Chapter 1' in x][1]\n",
        "end = [st0.index(x) for x in st0 if '***' in x][1]\n",
        "st1 = st0[start:end]\n",
        "\n",
        "\n",
        "# llm proposed fix\n",
        "# start_list = [st0.index(x) for x in st0 if 'Chapter 1' in x]\n",
        "# start = start_list[1] if len(start_list) > 1 else start_list[0] if start_list else 0\n",
        "# end = [st0.index(x) for x in st0 if '***' in x][0] # changed to 0 to get first instance of \"***\"\n",
        "# st1 = st0[start:end]\n",
        "\n",
        "\n"
      ]
    },
    {
      "cell_type": "code",
      "execution_count": 28,
      "metadata": {
        "id": "SVGU9abTs_oI",
        "outputId": "9e1db349-af5d-410a-d51d-6ac9e22a5c2b",
        "colab": {
          "base_uri": "https://localhost:8080/"
        }
      },
      "outputs": [
        {
          "output_type": "execute_result",
          "data": {
            "text/plain": [
              "['There is much more difference as to their best work than in the case of those others who are loved \"by allowance\" by convention, and because it is felt to be the right and proper thing to love them.',\n",
              " 'And in the sect--fairly large and yet unusually choice--of Austenians or Janites, there would probably be found partisans of the claim to primacy of almost every one of the novels.']"
            ]
          },
          "metadata": {},
          "execution_count": 28
        }
      ],
      "source": [
        "# Tokenizing has split a piece of dialogue and its attribution\n",
        "st1[6:8]"
      ]
    },
    {
      "cell_type": "code",
      "execution_count": 29,
      "metadata": {
        "id": "8Dc3F-2Ks_oI"
      },
      "outputs": [],
      "source": [
        "# If first character of sentence is lowercase (e.g \"cried\"),\n",
        "# assume that it is actually the second half of one sentence and re-combine in a list\n",
        "st2 = []\n",
        "for i, sent in enumerate(st1):\n",
        "    if str.islower(sent[0]):\n",
        "        st2.append(st1[i-1] + ' ' + st1[i])\n",
        "    else:\n",
        "        st2.append(st1[i])"
      ]
    },
    {
      "cell_type": "code",
      "execution_count": 31,
      "metadata": {
        "id": "gzsgr53es_oI",
        "outputId": "79489a4d-0ba6-45eb-91c6-3bb8126b8a71",
        "colab": {
          "base_uri": "https://localhost:8080/"
        }
      },
      "outputs": [
        {
          "output_type": "stream",
          "name": "stderr",
          "text": [
            "[nltk_data] Downloading package vader_lexicon to /root/nltk_data...\n"
          ]
        }
      ],
      "source": [
        "nltk.download('vader_lexicon')\n",
        "\n",
        "# Define function to gather additional sentence information\n",
        "sid = sia()\n",
        "def gather_sentence(sentence):\n",
        "    sent_dict = {}\n",
        "    ss = sid.polarity_scores(sentence)\n",
        "    sent_dict['sent'] = sentence\n",
        "    sent_dict['sent_simple'] = sentence.replace(\"'s\",'').translate(str.maketrans('', '', string.punctuation)).lower()\n",
        "    sent_dict['word_ct'] = len(sentence.split(' '))\n",
        "    sent_dict['neg_pol'] = ss['neg']\n",
        "    sent_dict['neu_pol'] = ss['neu']\n",
        "    sent_dict['pos_pol'] = ss['pos']\n",
        "    sent_dict['compound'] = ss['compound']\n",
        "    if ss['compound'] > 0:\n",
        "        compound_txt = 'positive'\n",
        "    elif ss['compound'] < 0:\n",
        "        compound_txt = 'negative'\n",
        "    else:\n",
        "        compound_txt = 'neutral'\n",
        "    sent_dict['compound_txt'] = compound_txt\n",
        "    sent_dict['read_level'] = ts.text_standard(sentence, float_output=True)\n",
        "    sent_dict['read_time'] = ts.reading_time(sentence)\n",
        "    sent_dict['syl_ct'] = ts.syllable_count(sentence)\n",
        "    sent_dict['monosyl_ct'] = ts.monosyllabcount(sentence)\n",
        "    sent_dict['polysyl_ct'] = ts.polysyllabcount(sentence)\n",
        "    return sent_dict"
      ]
    },
    {
      "cell_type": "code",
      "execution_count": 32,
      "metadata": {
        "id": "un9FegN9s_oJ",
        "outputId": "3c224e42-bfc4-4863-fff7-e47fc8c38e9f",
        "colab": {
          "base_uri": "https://localhost:8080/",
          "height": 35
        }
      },
      "outputs": [
        {
          "output_type": "execute_result",
          "data": {
            "text/plain": [
              "'Cross Road.'"
            ],
            "application/vnd.google.colaboratory.intrinsic+json": {
              "type": "string"
            }
          },
          "metadata": {},
          "execution_count": 32
        }
      ],
      "source": [
        "st2[0]"
      ]
    },
    {
      "cell_type": "code",
      "execution_count": 33,
      "metadata": {
        "id": "ZsbcJG2gs_oJ",
        "outputId": "0e2649f6-7d2e-4431-c7c0-58dbcff1bd26",
        "colab": {
          "base_uri": "https://localhost:8080/",
          "height": 211
        }
      },
      "outputs": [
        {
          "output_type": "error",
          "ename": "IndexError",
          "evalue": "list index out of range",
          "traceback": [
            "\u001b[0;31m---------------------------------------------------------------------------\u001b[0m",
            "\u001b[0;31mIndexError\u001b[0m                                Traceback (most recent call last)",
            "\u001b[0;32m<ipython-input-33-8a0955c7fd39>\u001b[0m in \u001b[0;36m<cell line: 0>\u001b[0;34m()\u001b[0m\n\u001b[1;32m     17\u001b[0m         \u001b[0mdict\u001b[0m \u001b[0;34m=\u001b[0m \u001b[0;34m{\u001b[0m\u001b[0;34m}\u001b[0m\u001b[0;34m\u001b[0m\u001b[0;34m\u001b[0m\u001b[0m\n\u001b[1;32m     18\u001b[0m         \u001b[0mdict\u001b[0m\u001b[0;34m[\u001b[0m\u001b[0;34m'sentence'\u001b[0m\u001b[0;34m]\u001b[0m \u001b[0;34m=\u001b[0m \u001b[0ms\u001b[0m\u001b[0;34m\u001b[0m\u001b[0;34m\u001b[0m\u001b[0m\n\u001b[0;32m---> 19\u001b[0;31m         \u001b[0mdict\u001b[0m\u001b[0;34m[\u001b[0m\u001b[0;34m'chapter'\u001b[0m\u001b[0;34m]\u001b[0m \u001b[0;34m=\u001b[0m \u001b[0mchap_lst\u001b[0m\u001b[0;34m[\u001b[0m\u001b[0;34m-\u001b[0m\u001b[0;36m1\u001b[0m\u001b[0;34m]\u001b[0m\u001b[0;34m\u001b[0m\u001b[0;34m\u001b[0m\u001b[0m\n\u001b[0m\u001b[1;32m     20\u001b[0m         \u001b[0mdict_lst\u001b[0m\u001b[0;34m.\u001b[0m\u001b[0mappend\u001b[0m\u001b[0;34m(\u001b[0m\u001b[0mdict\u001b[0m\u001b[0;34m)\u001b[0m\u001b[0;34m\u001b[0m\u001b[0;34m\u001b[0m\u001b[0m\n\u001b[1;32m     21\u001b[0m \u001b[0;34m\u001b[0m\u001b[0m\n",
            "\u001b[0;31mIndexError\u001b[0m: list index out of range"
          ]
        }
      ],
      "source": [
        "# Loop through sentences and if they match a regex starting with \"Chapter\"\n",
        "# Then remove the word \"Chapter\" from these sentences and create a list with the chapter number\n",
        "# Generate a dictionary with this information\n",
        "dict_lst = []\n",
        "chap_lst = []\n",
        "for s in st2:\n",
        "    reg = '(Chapter) [0-9]+'\n",
        "    m = re.search(reg, s)\n",
        "    if m:\n",
        "        dict = {}\n",
        "        chapter = m.group()\n",
        "        dict['sentence'] = s.replace(chapter + '  ', '')\n",
        "        dict['chapter'] = chapter.split(' ')[1]\n",
        "        dict_lst.append(dict)\n",
        "        chap_lst.append(chapter.split(' ')[1])\n",
        "    else:\n",
        "        dict = {}\n",
        "        dict['sentence'] = s\n",
        "        dict['chapter'] = chap_lst[-1]\n",
        "        dict_lst.append(dict)\n",
        "\n",
        "# Create dataframe from list of dictionaries\n",
        "a_df = pd.DataFrame.from_dict(dict_lst)\n",
        "\n",
        "# Apply the gather_sentence function to each sentence\n",
        "major_sent_dict = [gather_sentence(x) for x in a_df['sentence']]\n",
        "\n",
        "# Create a new dataframe to capture the additional data\n",
        "b_df = pd.DataFrame(major_sent_dict)\n",
        "b_df = b_df.drop(['sent'], axis=1)\n",
        "\n",
        "# Merge original sentence dataframe with additional dataframe\n",
        "df = pd.merge(a_df, b_df, left_index=True, right_index=True)\n",
        "\n",
        "# Create integer version of Chapter\n",
        "df['chapter_int'] = [int(x) for x in list(df['chapter'])]\n",
        "\n",
        "# Split the book into six parts: 10-11 chapters per part\n",
        "df['part'] = pd.cut(df['chapter_int'],bins=[1,10,20,30,40,50,61], labels=[1,2,3,4,5,6], include_lowest=True)\n",
        "\n",
        "df.head(2)"
      ]
    },
    {
      "cell_type": "code",
      "execution_count": null,
      "metadata": {
        "id": "_CM5-Y9ms_oJ"
      },
      "outputs": [],
      "source": [
        "a_df.head()"
      ]
    },
    {
      "cell_type": "code",
      "execution_count": null,
      "metadata": {
        "id": "lYCvesEjs_oJ"
      },
      "outputs": [],
      "source": [
        "df[df['sentence'].str.contains('I cannot fix on the hour')]"
      ]
    },
    {
      "cell_type": "code",
      "execution_count": null,
      "metadata": {
        "id": "JvbEikhrs_oK"
      },
      "outputs": [],
      "source": [
        "example_sentence = df['sentence'][2834]\n",
        "example_sentence"
      ]
    },
    {
      "cell_type": "code",
      "execution_count": null,
      "metadata": {
        "id": "hH7_EVscs_oK"
      },
      "outputs": [],
      "source": [
        "from nltk.sentiment.vader import SentimentIntensityAnalyzer as sia\n",
        "sid = sia()\n",
        "sid.polarity_scores(example_sentence)"
      ]
    },
    {
      "cell_type": "code",
      "execution_count": null,
      "metadata": {
        "id": "3V0suXuss_oK"
      },
      "outputs": [],
      "source": [
        "# Create a test sentence to use\n",
        "tester = df['sentence'][0]\n",
        "\n",
        "# Display count of sentences in new dataframe\n",
        "print(\n",
        "    'count of sentences: ', len(df), ' | '\n",
        "    'count of chapters: ', len(chap_title)\n",
        ")"
      ]
    },
    {
      "cell_type": "code",
      "execution_count": null,
      "metadata": {
        "id": "xbGSlmcHs_oK"
      },
      "outputs": [],
      "source": [
        "# Print proportion of sentences by compound sentiment score\n",
        "(df.groupby('compound_txt').count())['compound'] / len(df)"
      ]
    },
    {
      "cell_type": "code",
      "execution_count": null,
      "metadata": {
        "id": "WiOgWGKNs_oK"
      },
      "outputs": [],
      "source": [
        "# Describe the new textstat metrics across the dataset\n",
        "df[['sentence','read_level','read_time','syl_ct','monosyl_ct','polysyl_ct']].describe()"
      ]
    },
    {
      "cell_type": "code",
      "execution_count": null,
      "metadata": {
        "id": "dr4JPKpps_oK"
      },
      "outputs": [],
      "source": [
        "# Print the overall textstat metrics for the novel\n",
        "print(\n",
        "    'standard reading level: ',ts.text_standard(pandp_txt, float_output=True),'\\n',\n",
        "    'reading_time: ',ts.reading_time(pandp_txt, ms_per_char=14.69),'\\n',\n",
        "    'prop mono syls: ',ts.monosyllabcount(pandp_txt)/ts.syllable_count(pandp_txt),'\\n',\n",
        "    'prop poly syls: ',ts.polysyllabcount(pandp_txt)/ts.syllable_count(pandp_txt)\n",
        "    )"
      ]
    },
    {
      "cell_type": "code",
      "execution_count": null,
      "metadata": {
        "id": "PURx5g_0s_oL"
      },
      "outputs": [],
      "source": [
        "# Define a function to translate the part of speech tag from NLK to the one WordNet Lemmatizer uses\n",
        "def translate_pos(nltk_tag):\n",
        "    if nltk_tag.startswith('J'): # Adjective\n",
        "        return 'a'\n",
        "    elif nltk_tag.startswith('V'): # Verb\n",
        "        return 'v'\n",
        "    elif nltk_tag.startswith('N'): # Noun\n",
        "        return 'n'\n",
        "    elif nltk_tag.startswith('R'): # Adverb\n",
        "        return 'r'\n",
        "    else:\n",
        "        return 'n'"
      ]
    },
    {
      "cell_type": "code",
      "execution_count": null,
      "metadata": {
        "id": "9dK_RM1Ds_oL"
      },
      "outputs": [],
      "source": [
        "pos_tag(df['sentence'][5].split(' '))"
      ]
    },
    {
      "cell_type": "code",
      "execution_count": null,
      "metadata": {
        "id": "k0Hp9ysks_oL"
      },
      "outputs": [],
      "source": [
        "df[df['sentence'].str.contains('exclaimed')]['sentence']"
      ]
    },
    {
      "cell_type": "code",
      "execution_count": null,
      "metadata": {
        "id": "XJFOZtETs_oL"
      },
      "outputs": [],
      "source": [
        "# Define a function to extract details at the word level from a sentence\n",
        "lemmatizer = WordNetLemmatizer()\n",
        "\n",
        "def create_word_dictionary(sentence, chapter, sent_index):\n",
        "    sent = sentence.split(' ')\n",
        "    sent1 = [x.replace(\"'s\",'').translate(str.maketrans('', '', string.punctuation)) for x in sent]\n",
        "    part = pos_tag(sent1)\n",
        "    parts = [x[1] for x in part]\n",
        "    word_dict_lst = []\n",
        "    for i, word in enumerate(sent1):\n",
        "        word_dict = {}\n",
        "        word_dict['original_word'] = word\n",
        "        word_dict['part_of_speech'] = parts[i]\n",
        "        pos_for_lem = translate_pos(parts[i])\n",
        "        word_dict['pos_for_lem'] = pos_for_lem\n",
        "        word_dict['word_lower'] = word.lower()\n",
        "        #word_dict['word_lem'] = lemmatizer.lemmatize(word.lower(),pos_for_lem)\n",
        "        word_dict['chapter'] = chapter\n",
        "        word_dict['chapter_int'] = int(chapter)\n",
        "        word_dict['sent_index'] = sent_index\n",
        "        word_dict['part'] = df['part'][sent_index]\n",
        "        word_dict_lst.append(word_dict)\n",
        "    return word_dict_lst"
      ]
    },
    {
      "cell_type": "code",
      "execution_count": null,
      "metadata": {
        "id": "S23TupwHs_oL"
      },
      "outputs": [],
      "source": [
        "# For each sentence, apply the create_word_dictionary function\n",
        "major_dict = []\n",
        "for i, sentence in enumerate(a_df['sentence']):\n",
        "    chapter = a_df['chapter'][i]\n",
        "    sent_index = i\n",
        "    new_dict = create_word_dictionary(sentence, chapter, sent_index)\n",
        "    major_dict.append(new_dict)\n",
        "\n",
        "# Make the list of dictionaries into one dictionary\n",
        "major_dict1 = [x for sublist in major_dict for x in sublist]\n",
        "\n",
        "# Create a new word-level dictionary based on the new dictionary\n",
        "a_wdf = pd.DataFrame(major_dict1)\n",
        "a_wdf['copy_index'] = a_wdf.index"
      ]
    },
    {
      "cell_type": "code",
      "execution_count": null,
      "metadata": {
        "id": "axqSdTZLs_oL"
      },
      "outputs": [],
      "source": [
        "# Create a dataframe with each word in the text and its Part of Speech, as identified by NLTK\n",
        "wdf1 = a_wdf[['original_word', 'part_of_speech']].value_counts().reset_index()\n",
        "wdf1.rename(columns={0:'ct'}, inplace=True)\n",
        "\n",
        "# Loop through a unique list of the words and identify Part of Speech with NLTK\n",
        "pos_mc = []\n",
        "occ_ct = []\n",
        "word_uni = set(wdf1['original_word'])\n",
        "for word in word_uni:\n",
        "    # Take the Part of Speech in the 0th position (the POS that NLTK identified for that word most often)\n",
        "    mc = list(wdf1[wdf1['original_word']==word]['part_of_speech'])[0]\n",
        "    ct = wdf1[wdf1['original_word']==word]['ct'].sum()\n",
        "    pos_mc.append(mc)\n",
        "    occ_ct.append(ct)\n",
        "\n",
        "# Create a new dataframe with the unique list of lemmatized words, their most common part of speech,\n",
        "# and the number of occurrences of that word in the text\n",
        "tup = list(zip(word_uni, pos_mc, occ_ct))\n",
        "b_wdf = pd.DataFrame(tup,columns=['word_mc', 'part_of_speech_mc','ct_mc'])\n",
        "wdf = pd.merge(a_wdf, b_wdf, left_on='original_word', right_on='word_mc')\n",
        "wdf = wdf.sort_values('copy_index').reset_index()\n",
        "wdf.drop(['word_mc','ct_mc','index','copy_index'], inplace=True, axis=1)"
      ]
    },
    {
      "cell_type": "code",
      "execution_count": null,
      "metadata": {
        "id": "UecKtmCAs_oM"
      },
      "outputs": [],
      "source": [
        "# For each word, use the most commonly assigned part of speech to lemmatize\n",
        "word_lem = []\n",
        "for i, r in wdf.iterrows():\n",
        "    w_lem = lemmatizer.lemmatize(r['word_lower'],r['pos_for_lem'])\n",
        "    word_lem.append(w_lem)\n",
        "\n",
        "wdf['word_lem'] = word_lem"
      ]
    },
    {
      "cell_type": "code",
      "execution_count": null,
      "metadata": {
        "id": "xbN9PPv_s_oM"
      },
      "outputs": [],
      "source": [
        "wdf[wdf['word_lower']!=wdf['word_lem']][['original_word','word_lem']]"
      ]
    },
    {
      "cell_type": "code",
      "execution_count": null,
      "metadata": {
        "id": "dIWsQr1ss_oM"
      },
      "outputs": [],
      "source": [
        "wdf.head()"
      ]
    },
    {
      "cell_type": "code",
      "execution_count": null,
      "metadata": {
        "id": "xmomaPsys_oM"
      },
      "outputs": [],
      "source": [
        "lemmatizer.lemmatize('exclaimed')"
      ]
    },
    {
      "cell_type": "code",
      "execution_count": null,
      "metadata": {
        "id": "4gIIALxXs_oM"
      },
      "outputs": [],
      "source": [
        "lemmatizer.lemmatize('exclaimed','v')"
      ]
    },
    {
      "cell_type": "code",
      "execution_count": null,
      "metadata": {
        "id": "XrLDeTyms_oM"
      },
      "outputs": [],
      "source": [
        "pos_tag(df['sentence'][1086].split(' '))"
      ]
    },
    {
      "cell_type": "code",
      "execution_count": null,
      "metadata": {
        "id": "5CeyV7ajs_oM"
      },
      "outputs": [],
      "source": [
        "pos_tag(df['sentence'][1086].translate(str.maketrans('', '', string.punctuation)).split(' '))"
      ]
    },
    {
      "cell_type": "code",
      "execution_count": null,
      "metadata": {
        "id": "e6Eq0fvms_oN"
      },
      "outputs": [],
      "source": [
        "# Count how many times Elizabeth and Darcy are mentioned across the chapters\n",
        "e = [(int('elizabeth' == x)|(int('lizzy' == x))) for x in wdf['word_lem']]\n",
        "d = [int('darcy' == x) for x in wdf['word_lem']]\n",
        "\n",
        "wdf['mention_e'] = e\n",
        "wdf['mention_d'] = d"
      ]
    },
    {
      "cell_type": "code",
      "execution_count": null,
      "metadata": {
        "id": "4XAOLX-cs_oN"
      },
      "outputs": [],
      "source": [
        "# Obtain fhe following summary metrics on the chapter level:\n",
        "# Count of sentences, count of words, average word count per sentence, average sentiment, count of Elizabeth mentions,\n",
        "# count of Darcy mentions, proportion of positive sentences, proportion of negative sentences\n",
        "\n",
        "sent_ct = list((df['chapter'].value_counts()).sort_index(ascending=True))\n",
        "word_ct = list(df.groupby(['chapter']).sum()['word_ct'])\n",
        "avg_word_ct = list(df.groupby(['chapter']).mean()['word_ct'])\n",
        "avg_pol = list(df.groupby(['chapter']).mean()['compound'])\n",
        "e_ment = list(wdf.groupby(['chapter']).sum()['mention_e'])\n",
        "d_ment = list(wdf.groupby(['chapter']).sum()['mention_d'])\n",
        "pos_sent = list(df[df['compound_txt']=='positive'].groupby(['chapter']).count()['sentence'])\n",
        "neg_sent = list(df[df['compound_txt']=='negative'].groupby(['chapter']).count()['sentence'])\n",
        "\n",
        "cdf = pd.DataFrame(df.chapter.unique(), columns=['chapter'])\n",
        "# Chapter name\n",
        "cdf['chapter'] = list(df.chapter.unique())\n",
        "cdf['chapter_int'] = [int(x) for x in list(df.chapter.unique())]\n",
        "# Sentence count in chapter\n",
        "cdf['sent_ct'] = sent_ct\n",
        "# Total word count in chapter\n",
        "cdf['word_ct'] = word_ct\n",
        "# Average word count across sentences in chapter\n",
        "cdf['avg_word_ct'] = avg_word_ct\n",
        "# Average polarity of chapter\n",
        "cdf['avg_pol'] = avg_pol\n",
        "# Count of mentions of \"Elizabeth\"\n",
        "cdf['e_ment'] = e_ment\n",
        "# Count of mentions of \"Darcy\"\n",
        "cdf['d_ment'] = d_ment\n",
        "# Count of sentences with positive sentiment\n",
        "cdf['pos_sent'] = pos_sent\n",
        "# Count of sentences with negative sentiment\n",
        "cdf['neg_sent'] = neg_sent\n",
        "# Proportion of sentences that are positive\n",
        "cdf['pos_prop'] = cdf['pos_sent']/cdf['sent_ct']\n",
        "# Proportion of sentences that are negative\n",
        "cdf['neg_prop'] = cdf['neg_sent']/cdf['sent_ct']\n",
        "# Ratio of positive to negative sentence count\n",
        "cdf['pos_neg_ratio'] = cdf['pos_sent']/cdf['neg_sent']\n",
        "# Ratio of Darcy to Elizabeth name occurrence\n",
        "cdf['d_e_ratio'] = cdf['d_ment']/cdf['e_ment']\n",
        "\n",
        "cdf.head()"
      ]
    },
    {
      "cell_type": "code",
      "execution_count": null,
      "metadata": {
        "id": "tg8nzU3Hs_oR"
      },
      "outputs": [],
      "source": [
        "# Obtain fhe following summary metrics on the Part level (group of 10-11 parts):\n",
        "# count of sentences, count of words, average word count per sentence, average sentiment, count of Elizabeth mentions,\n",
        "# count of Darcy mentions, proportion of positive sentences, proportion of negative sentences\n",
        "\n",
        "sent_ct = list((df['part'].value_counts()).sort_index(ascending=True))\n",
        "word_ct = list(df.groupby(['part']).sum()['word_ct'])\n",
        "avg_word_ct = list(df.groupby(['part']).mean()['word_ct'])\n",
        "avg_pol = list(df.groupby(['part']).mean()['compound'])\n",
        "e_ment = list(wdf.groupby(['part']).sum()['mention_e'])\n",
        "d_ment = list(wdf.groupby(['part']).sum()['mention_d'])\n",
        "pos_sent = list(df[df['compound_txt']=='positive'].groupby(['part']).count()['sentence'])\n",
        "neg_sent = list(df[df['compound_txt']=='negative'].groupby(['part']).count()['sentence'])\n",
        "\n",
        "pdf = pd.DataFrame(df.part.unique(), columns=['part'])\n",
        "# Part of novel (10-11 chapters per part)\n",
        "pdf['part'] = list(df.part.unique())\n",
        "# Sentence count in part\n",
        "pdf['sent_ct'] = sent_ct\n",
        "# Total word count in part\n",
        "pdf['word_ct'] = word_ct\n",
        "# Average word count across sentences in part\n",
        "pdf['avg_word_ct'] = avg_word_ct\n",
        "# Average polarity of part\n",
        "pdf['avg_pol'] = avg_pol\n",
        "# Count of mentions of \"Elizabeth\"\n",
        "pdf['e_ment'] = e_ment\n",
        "# Count of mentions of \"Darcy\"\n",
        "pdf['d_ment'] = d_ment\n",
        "# Count of sentences with positive sentiment\n",
        "pdf['pos_sent'] = pos_sent\n",
        "# Count of sentences with negative sentiment\n",
        "pdf['neg_sent'] = neg_sent\n",
        "# Proportion of sentences that are positive\n",
        "pdf['pos_prop'] = pdf['pos_sent']/pdf['sent_ct']\n",
        "# Proportion of sentences that are negative\n",
        "pdf['neg_prop'] = pdf['neg_sent']/pdf['sent_ct']\n",
        "# Ratio of positive to negative sentence count\n",
        "pdf['pos_neg_ratio'] = pdf['pos_sent']/pdf['neg_sent']\n",
        "# Ratio of Darcy to Elizabeth name occurrence\n",
        "pdf['d_e_ratio'] = pdf['d_ment']/pdf['e_ment']\n",
        "\n",
        "pdf"
      ]
    },
    {
      "cell_type": "markdown",
      "metadata": {
        "id": "BqBJVoJFs_oR"
      },
      "source": [
        "3. Perform Sentiment Analysis"
      ]
    },
    {
      "cell_type": "code",
      "execution_count": null,
      "metadata": {
        "id": "1DCG3F38s_oR"
      },
      "outputs": [],
      "source": [
        "# Print basic metrics\n",
        "print(\n",
        "    'total df row count:', len(df), '| '\n",
        "    'character count:', len(pandp_txt), '| '\n",
        "    'word count:', len(wdf), '| '\n",
        "    'sentence count:', len(sent)\n",
        ")"
      ]
    },
    {
      "cell_type": "markdown",
      "metadata": {
        "id": "Z3Hy4UlPs_oS"
      },
      "source": [
        "4. Visualize Character-Adjacent Words"
      ]
    },
    {
      "cell_type": "code",
      "execution_count": null,
      "metadata": {
        "id": "OLsAk3VNs_oS"
      },
      "outputs": [],
      "source": [
        "# Create lists to form dataframe for \"Adjacent Words\"\n",
        "wrd_adj = []\n",
        "wrd_person = []\n",
        "wrd_pos = []\n",
        "sent_index = []\n",
        "characters = ['darcy','elizabeth','lizzy']\n",
        "# Loop through each sentence and identify the words that are adjacent to mentions of Elizabeth or Darcy\n",
        "for n, s in enumerate(df['sent_simple']):\n",
        "    ss = s.split()\n",
        "    for i, e in enumerate(ss):\n",
        "        if e in characters:\n",
        "            # For cases where the character name is NOT the first in the sentence, collect data\n",
        "            if i != 0:\n",
        "                # Handle cases where either character are referred to as Miss or Mr\n",
        "                if ss[i-1] in ('miss','mr'):\n",
        "                    w_prior = ss[i-2]\n",
        "                else:\n",
        "                    w_prior = ss[i-1]\n",
        "                w_pos = wdf[wdf['original_word']==w_prior]['part_of_speech_mc'].values\n",
        "                # Collect the name of the character\n",
        "                wrd_person.append(e)\n",
        "                # If the word exists in the Part of Speech dataframe, collect the Part of Speech\n",
        "                if len(w_pos)>0:\n",
        "                    pos = w_pos[0]\n",
        "                else:\n",
        "                    pos = 'None found'\n",
        "                wrd_pos.append(pos)\n",
        "                # Collect the word prior to the name\n",
        "                wrd_adj.append(lemmatizer.lemmatize(w_prior.lower(),translate_pos(pos)))\n",
        "                # Collect sentence index\n",
        "                sent_index.append(n)\n",
        "            # For cases where the character name is NOT the LAST in the sentence, collect data\n",
        "            if i != len(ss)-1:\n",
        "                w_after = ss[i+1]\n",
        "                w_pos = wdf[wdf['original_word']==w_after]['part_of_speech_mc'].values\n",
        "                # Collect the name of the character\n",
        "                wrd_person.append(e)\n",
        "                # Collect the part of speech\n",
        "                if len(w_pos)>0:\n",
        "                    pos = w_pos[0]\n",
        "                else:\n",
        "                    pos = 'None found'\n",
        "                wrd_pos.append(pos)\n",
        "                # Collect the word after the name\n",
        "                wrd_adj.append(lemmatizer.lemmatize(w_after.lower(),translate_pos(pos)))\n",
        "                # Collect sentence index\n",
        "                sent_index.append(n)\n",
        "\n",
        "# Create a new dataframe with the adjacent word, relevant character, and part of speech\n",
        "tup = list(zip(wrd_adj, wrd_person, wrd_pos, sent_index))\n",
        "adf = pd.DataFrame(tup,columns=['adjacent_word', 'person','pos','sent_index'])\n",
        "adf.head()"
      ]
    },
    {
      "cell_type": "code",
      "execution_count": null,
      "metadata": {
        "id": "zbL7GobEs_oS"
      },
      "outputs": [],
      "source": [
        "# Define a function to create wordcloud with arguments for Character, Part of Speech, and Stopwords\n",
        "def create_cloud(character:list, pos, stop=['is']):\n",
        "    ser = adf[(adf['person'].isin(character))&(adf['pos'].isin(pos))]['adjacent_word']\n",
        "    lst = list(ser)\n",
        "    strng = ' '.join(lst)\n",
        "    wordcloud = WordCloud(stopwords=stop, max_words=25, \\\n",
        "                        background_color=\"white\").generate(strng)\n",
        "    plt.imshow(wordcloud)\n",
        "    plt.axis(\"off\")\n",
        "    plt.show()\n",
        "\n",
        "# Create lists with the relevant Part of Speech NLTK codes\n",
        "adjective = ['JJ','JJR','JJS']\n",
        "verb = ['VB','VBG','VBD','VBN','VBP','VBZ']\n",
        "adverb = ['RB','RBR','RBS','RP']\n"
      ]
    },
    {
      "cell_type": "code",
      "execution_count": null,
      "metadata": {
        "id": "XKJE4FaHs_oS"
      },
      "outputs": [],
      "source": [
        "e_verbs = adf[(adf['person'].isin(['elizabeth','lizzy']))&(adf['pos'].isin(verb))]['adjacent_word']\n",
        "e_verbs.value_counts()[:5]"
      ]
    },
    {
      "cell_type": "code",
      "execution_count": null,
      "metadata": {
        "id": "9J4pHDAMs_oS"
      },
      "outputs": [],
      "source": [
        "# Generate Wordclouds using the new function\n",
        "e = ['elizabeth','lizzy']\n",
        "d = ['darcy']\n",
        "a_stop = ['is']\n",
        "v_stop = ['say','be','have','reply','do']\n",
        "adv_stop = ['so','only']\n",
        "\n",
        "print('Elizabeth Adjectives:')\n",
        "create_cloud(e,adjective,stop=a_stop)\n",
        "print('Darcy Adjectives:')\n",
        "create_cloud(d,adjective,stop=a_stop)\n",
        "\n",
        "print('Elizabeth Verbs:')\n",
        "create_cloud(e,verb,stop=v_stop)\n",
        "print('Darcy Verbs:')\n",
        "create_cloud(d,verb,stop=v_stop)\n",
        "\n",
        "print('Elizabeth Adverbs:')\n",
        "create_cloud(e,adverb,stop=adv_stop)\n",
        "print('Darcy Adverbs:')\n",
        "create_cloud(d,adverb,stop=adv_stop)"
      ]
    },
    {
      "cell_type": "markdown",
      "metadata": {
        "id": "uWW1QKTOs_oS"
      },
      "source": [
        "5. Plot Metrics Across Chapters"
      ]
    },
    {
      "cell_type": "code",
      "execution_count": null,
      "metadata": {
        "id": "K1ceMNQWs_oT"
      },
      "outputs": [],
      "source": [
        "def create_line_graph(x_axis, y_axis, title, xlabel, ylabel, level='chapter'):\n",
        "    x = x_axis\n",
        "    y = y_axis\n",
        "    if level == 'part':\n",
        "        x_ticks = pdf['part']\n",
        "        bins = 6\n",
        "    else:\n",
        "        x_ticks = cdf['chapter_int']\n",
        "        bins = 10\n",
        "    plt.plot(x,y)\n",
        "    plt.title(label=title)\n",
        "    plt.xlabel(xlabel)\n",
        "    plt.ylabel(ylabel)\n",
        "    plt.locator_params(axis='x', nbins=6)"
      ]
    },
    {
      "cell_type": "code",
      "execution_count": null,
      "metadata": {
        "id": "a-Rvntyhs_oT"
      },
      "outputs": [],
      "source": [
        "# Average Polarity by Part\n",
        "x_axis = pdf['part']\n",
        "y_axis = pdf['avg_pol']\n",
        "title = 'Average Sentence Sentiment by Part'\n",
        "xlabel = 'Part of Novel'\n",
        "ylabel = 'Average Sentence Polarity'\n",
        "create_line_graph(x_axis, y_axis, title, xlabel, ylabel,level='part')"
      ]
    },
    {
      "cell_type": "code",
      "execution_count": null,
      "metadata": {
        "id": "EJB_IwSRs_oT"
      },
      "outputs": [],
      "source": [
        "# Average Polarity by Chapter\n",
        "x_axis = cdf['chapter_int']\n",
        "y_axis = cdf['avg_pol']\n",
        "title = 'Average Sentence Sentiment by Chapter'\n",
        "xlabel = 'Chapter'\n",
        "ylabel = 'Average Sentence Polarity'\n",
        "create_line_graph(x_axis, y_axis, title, xlabel, ylabel, level='chapter')"
      ]
    },
    {
      "cell_type": "code",
      "execution_count": null,
      "metadata": {
        "id": "85ROLsfZs_oT"
      },
      "outputs": [],
      "source": [
        "# Average word count by Chapter\n",
        "x_axis = cdf['chapter_int']\n",
        "y_axis = cdf['word_ct']\n",
        "title = 'Word Count by Chapter'\n",
        "xlabel = 'Chapter'\n",
        "ylabel = 'Word Count'\n",
        "create_line_graph(x_axis, y_axis, title, xlabel, ylabel,'chapter')"
      ]
    },
    {
      "cell_type": "code",
      "execution_count": null,
      "metadata": {
        "id": "K29KequMs_oT"
      },
      "outputs": [],
      "source": [
        "# Define a new function to plot word occurrence on a line graph\n",
        "def plot_word(wordlist: list, level='chapter'):\n",
        "    wordbool = [int(w in wordlist) for w in wdf['word_lem']]\n",
        "    wdf['plot_word'] = wordbool\n",
        "    if level == 'part':\n",
        "        plot_df1 = wdf.groupby(['part']).sum()\n",
        "        xlabel = 'Part'\n",
        "        bins = 6\n",
        "    elif level == 'chapter':\n",
        "        plot_df1 = wdf.groupby(['chapter_int']).sum()\n",
        "        xlabel = 'Chapter'\n",
        "        bins = 10\n",
        "    x = plot_df1.index\n",
        "    y = plot_df1['plot_word']\n",
        "    x_ticks = plot_df1.index\n",
        "\n",
        "    plt.xticks(ticks=x_ticks)\n",
        "    plt.plot(x,y)\n",
        "    titl = \"'\"+wordlist[0]+\"'\"+\" in Price & Prejudice\"\n",
        "    plt.title(titl)\n",
        "    plt.locator_params(nbins=bins)\n",
        "    plt.xlabel(xlabel)\n",
        "    plt.ylabel('Count of Occurrences')"
      ]
    },
    {
      "cell_type": "code",
      "execution_count": null,
      "metadata": {
        "id": "lUAL8VN4s_oU"
      },
      "outputs": [],
      "source": [
        "# Create stopword list:\n",
        "stopwords = set(STOPWORDS)\n",
        "\n",
        "# Add more words to ignore\n",
        "stopwords.update([\"S\",\"re\", \"say\", \"said\", \"don't\", \"didn't\"])\n"
      ]
    },
    {
      "cell_type": "code",
      "execution_count": null,
      "metadata": {
        "id": "1JMLh2jos_oU"
      },
      "outputs": [],
      "source": [
        "wdf[wdf['word_lem'] == 'love']"
      ]
    },
    {
      "cell_type": "code",
      "execution_count": null,
      "metadata": {
        "id": "cVzBt6gJs_oU"
      },
      "outputs": [],
      "source": [
        "# Plot occurrences of the word \"love\" (and similar ones) across the chapters\n",
        "plot_word(['love'],'chapter')"
      ]
    },
    {
      "cell_type": "code",
      "execution_count": null,
      "metadata": {
        "id": "mGd8Skhps_oU"
      },
      "outputs": [],
      "source": [
        "plot_word(['love'],'part')"
      ]
    },
    {
      "cell_type": "code",
      "execution_count": null,
      "metadata": {
        "id": "or9kYl8Es_oU"
      },
      "outputs": [],
      "source": [
        "plot_word(['marry'])"
      ]
    },
    {
      "cell_type": "code",
      "execution_count": null,
      "metadata": {
        "id": "RetqTdg9s_oU"
      },
      "outputs": [],
      "source": [
        "plot_word(['wickham'])"
      ]
    },
    {
      "cell_type": "code",
      "execution_count": null,
      "metadata": {
        "id": "npVveFq2s_oV"
      },
      "outputs": [],
      "source": [
        "plot_word(['catherine'])"
      ]
    },
    {
      "cell_type": "code",
      "execution_count": null,
      "metadata": {
        "id": "3_BJRKNbs_oV"
      },
      "outputs": [],
      "source": [
        "plot_word(['lydia'])"
      ]
    },
    {
      "cell_type": "code",
      "execution_count": null,
      "metadata": {
        "id": "Q88MYLoxs_oV"
      },
      "outputs": [],
      "source": [
        "plot_word(['collins'])"
      ]
    },
    {
      "cell_type": "code",
      "execution_count": null,
      "metadata": {
        "id": "UNMjdkHZs_oV"
      },
      "outputs": [],
      "source": [
        "plot_word(['friend'],'part')"
      ]
    },
    {
      "cell_type": "code",
      "execution_count": null,
      "metadata": {
        "id": "-XQ91DfSs_oV"
      },
      "outputs": [],
      "source": [
        "plot_word(['pride'])"
      ]
    },
    {
      "cell_type": "code",
      "execution_count": null,
      "metadata": {
        "id": "PVTUWXIws_oV"
      },
      "outputs": [],
      "source": [
        "plot_word(['prejudice'])"
      ]
    },
    {
      "cell_type": "code",
      "execution_count": null,
      "metadata": {
        "id": "D9PUtLXVs_oW"
      },
      "outputs": [],
      "source": [
        "plot_word(['money','pounds','inheritance'])"
      ]
    },
    {
      "cell_type": "code",
      "execution_count": null,
      "metadata": {
        "id": "HCVg6VTqs_oW"
      },
      "outputs": [],
      "source": [
        "# Plot occurrences of the word \"nod\" (and similar ones) across the chapters\n",
        "plot_word(['laugh'])"
      ]
    },
    {
      "cell_type": "code",
      "execution_count": null,
      "metadata": {
        "id": "UDPJkrUHs_oW"
      },
      "outputs": [],
      "source": [
        "# Plot line graph of Darcy and Elizabeth mention count by chapter\n",
        "\n",
        "x = cdf.chapter_int\n",
        "y1 = cdf['e_ment']\n",
        "y2 = cdf['d_ment']\n",
        "\n",
        "plt.xticks(ticks=cdf.chapter_int)\n",
        "plt.plot(x,y1, label='Elizabeth')\n",
        "plt.plot(x,y2,label='Darcy')\n",
        "plt.legend()\n",
        "plt.locator_params(nbins=10)\n",
        "plt.title('Name Mentions by Chapter')\n",
        "plt.xlabel('Chapter')\n",
        "plt.ylabel('Count of Name Occurrences')"
      ]
    },
    {
      "cell_type": "code",
      "execution_count": null,
      "metadata": {
        "id": "h8GIbyf3s_oW"
      },
      "outputs": [],
      "source": [
        "# Plot line graph of Darcy and Elizabeth mention count by chapter\n",
        "\n",
        "x = cdf.chapter_int\n",
        "y1 = cdf['e_ment']\n",
        "y2 = cdf['d_ment']\n",
        "\n",
        "plt.xticks(ticks=cdf.chapter_int)\n",
        "plt.plot(x,y1, label='Elizabeth')\n",
        "plt.plot(x,y2,label='Darcy')\n",
        "plt.legend()\n",
        "plt.locator_params(nbins=10)\n",
        "plt.title('Name Mentions by Chapter')\n",
        "plt.xlabel('Chapter')\n",
        "plt.ylabel('Count of Name Occurrences')"
      ]
    },
    {
      "cell_type": "code",
      "execution_count": null,
      "metadata": {
        "id": "zSpwSRAvs_oW"
      },
      "outputs": [],
      "source": [
        "# Plot line graph of positive vs negative sentence count proportion\n",
        "\n",
        "x = cdf.chapter_int\n",
        "y1 = cdf['pos_prop']\n",
        "y2 = cdf['neg_prop']\n",
        "\n",
        "plt.xticks(ticks=cdf.chapter_int)\n",
        "plt.plot(x,y1, label='pos')\n",
        "plt.plot(x,y2,label='neg')\n",
        "plt.locator_params(nbins=10)\n",
        "plt.legend()\n",
        "plt.title('Sentiment Polarity Proportion')\n",
        "plt.xlabel('Chapter')\n",
        "plt.ylabel('Proportion of Sentences')"
      ]
    }
  ],
  "metadata": {
    "kernelspec": {
      "display_name": "Python 3.9.12 ('base')",
      "language": "python",
      "name": "python3"
    },
    "language_info": {
      "codemirror_mode": {
        "name": "ipython",
        "version": 3
      },
      "file_extension": ".py",
      "mimetype": "text/x-python",
      "name": "python",
      "nbconvert_exporter": "python",
      "pygments_lexer": "ipython3",
      "version": "3.9.12"
    },
    "orig_nbformat": 4,
    "vscode": {
      "interpreter": {
        "hash": "577028d85a9aa4df3e5503ba62b06fe79c3b4ac6e9bbac47eef050d9bc4a25be"
      }
    },
    "colab": {
      "provenance": []
    }
  },
  "nbformat": 4,
  "nbformat_minor": 0
}